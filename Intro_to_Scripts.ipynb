{
  "nbformat": 4,
  "nbformat_minor": 0,
  "metadata": {
    "colab": {
      "provenance": [],
      "authorship_tag": "ABX9TyPmseIda8jnGqVw5/0c+yww",
      "include_colab_link": true
    },
    "kernelspec": {
      "name": "python3",
      "display_name": "Python 3"
    },
    "language_info": {
      "name": "python"
    }
  },
  "cells": [
    {
      "cell_type": "markdown",
      "metadata": {
        "id": "view-in-github",
        "colab_type": "text"
      },
      "source": [
        "<a href=\"https://colab.research.google.com/github/jphagen3/Hagen-351-Python/blob/main/Intro_to_Scripts.ipynb\" target=\"_parent\"><img src=\"https://colab.research.google.com/assets/colab-badge.svg\" alt=\"Open In Colab\"/></a>"
      ]
    },
    {
      "cell_type": "markdown",
      "source": [
        "# Scripts in Python\n",
        "## Introduction\n",
        "Repeatedly doing a calculation with a calculator is tedious and it is easy to make mistakes.  It is much easier to use a computer to do this type of task.  A script is a short computer program written to automate a series of tasks.  There are many computer languages in use today; Python is the one most used by scientists so we will use it in all our physical chemistry courses.  \n",
        "## Example\n",
        "The short example script shown below illustrates some aspects of a typical script.\n",
        "Suppose that we want to calculate the wavelength of light given off when a hydrogen atom undergoes a transition.  As a reminder, the change  in energy of a hydrogen atom when it undergoes an electronic transition is given by equation 1:\n",
        "$$\\Delta E = -R_h \\left( \\frac{1}{n_f^2}-\\frac{1}{n_i^2} \\right)   ~~~~~ [1]$$  \n",
        " We can write a script that does the calculation for us.  The advantage of doing this with a script, rather than doing it with a calculator, is that we can reuse our script by changing the values of the inputs.  Run this script by clicking on the run icon in the cell below.  You may recognize your answer from the emission spectroscopy experiment you did in CHEM 124.  Check your answer in LabPal.\n"
      ],
      "metadata": {
        "id": "lndI-EUvI2mA"
      }
    },
    {
      "cell_type": "code",
      "execution_count": 1,
      "metadata": {
        "colab": {
          "base_uri": "https://localhost:8080/"
        },
        "id": "l_RSGjGpIu-e",
        "outputId": "1fefc163-d7a3-4881-b525-4c8627aabf1d"
      },
      "outputs": [
        {
          "output_type": "stream",
          "name": "stdout",
          "text": [
            "434.2070773263434\n"
          ]
        }
      ],
      "source": [
        "# This script calculates the wavelength in nm of a photon emitted when a hydrogen atom undergoes a transition from a higher-energy state to a lower-energy state.\n",
        "h=6.626e-34\t\t                    # Planck’s constant in J s\n",
        "c=3e8\t\t\t                        # The speed of light in m/s\n",
        "R_h=2.18e-18\t\t\t\t              # The Rydberg constant in J\n",
        "n_initial = 5\n",
        "# These are the principle quantum numbers for the hydrogen atom\n",
        "n_final = 2\n",
        "change_in_energy= -R_h*(1/n_final**2-1/n_initial**2)\n",
        "# Calculates the change in energy of the hydrogen atom in J\n",
        "photon_energy=-change_in_energy\t\t# Since the atom loses energy, the photon gains energy\n",
        "wavelength_m=h*c/photon_energy\t\t# Calculates the wavelength in meters\n",
        "wavelength_nm=wavelength_m*1e9 \t\t# Calculates the wavelength in nanometers\n",
        "print(wavelength_nm)\t\t\t\t      # Tells the script to output the value of the wavelength in nm\n",
        "\n",
        "\n"
      ]
    },
    {
      "cell_type": "markdown",
      "source": [
        "# Reflection\n",
        "Let’s examine the features of Python used in this script.\n",
        "## Constants\n",
        "These are values that we will define once and never change. We can use constants store values such as Planck’s constant, the Rydberg constant, or the speed of light.  \n",
        "## Variables\n",
        "We use these to store values that we may change at some point.  Two points about variable names:\n",
        "*\tDon’t use cryptic variable names like x, y, or z—it is too easy to lose track of what they mean.\n",
        "*\tVariable names are case-sensitive: Density, DENSITY, and Density are all different variables.  To avoid making mistakes, follow a consistent naming convention.  The most common naming convention in Python is to use all lowercase and separate words with an underscore character, as we did with the variable photon_energy above.\n",
        "## Math Functions\n",
        "Basic math functions such as addition, subtraction, multiplication, division, and exponentiation are built into Python and follow normal order of operations: exponentiation first, then multiplication and division, then addition and subtraction.  The notation is similar to what you have used before in graphing calculators; the only difference is that we use ** instead of ^ to indicate an exponent.\n",
        "##Comments\n",
        "Note that we have written comments into our code using the # symbol.  The computer ignores everything after the # symbol and so we use it to make notes to ourselves and to other users of our code.  It is very important to include units when you comment your code so that you don’t make unit errors.  Use paper to check that that your units cancel properly; forgetting to do so is a common source of errors in physical chemistry.\n",
        "The power of scripts is that once we have invested the time to write them we can reuse them with different inputs with almost no additional work.  Try changing the values of the initial and final quantum states and then rerun the script to see the effect on the wavelength of the photon.\n",
        "\n",
        "## Practice\n",
        "In the cell below, write a script that calculates the molar volume of any oxygen-containing organic compound based on its formula and density.  Run your script and check your answer in LabPal.\n"
      ],
      "metadata": {
        "id": "GL5KMDDfQf9y"
      }
    },
    {
      "cell_type": "code",
      "source": [],
      "metadata": {
        "id": "u_8t_9SbSrSz"
      },
      "execution_count": null,
      "outputs": []
    }
  ]
}